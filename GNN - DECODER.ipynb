{
 "cells": [
  {
   "cell_type": "code",
   "execution_count": 1,
   "id": "cfefd142-a167-4845-9cb6-a19fc2fa349d",
   "metadata": {
    "scrolled": true
   },
   "outputs": [
    {
     "name": "stdout",
     "output_type": "stream",
     "text": [
      "                                         Original Bits  \\\n",
      "0    0101001011011111000011111001110010110111110000...   \n",
      "1    0110000001001110110110010111011000011101110010...   \n",
      "2    0001000100111111101010011100101010010001000001...   \n",
      "3    0110100011101101001001111001000110010111001111...   \n",
      "4    0101100110100101101001011000111100010100001110...   \n",
      "..                                                 ...   \n",
      "495  0101100011110011111111000100110011000010010011...   \n",
      "496  0100100010000111010000110011010111011011010000...   \n",
      "497  0100010110000110011011101011111111000011010100...   \n",
      "498  0110000010011011011011110101100100000011111011...   \n",
      "499  0110111011001110010100010110000110001011100110...   \n",
      "\n",
      "                            Encoded and Corrupted Bits  \n",
      "0    1110010011000111101001000101001011011111000011...  \n",
      "1    1100001011000011000111000110000001001110110110...  \n",
      "2    0011100100111011000011000001000100111111101010...  \n",
      "3    1011001001000011110010010110100011101101001001...  \n",
      "4    0111000111100101111000010101100110100101101011...  \n",
      "..                                                 ...  \n",
      "495  1100110000000100000001000101100011110011111111...  \n",
      "496  0111010100011000001001100100100010000111010000...  \n",
      "497  0001000111010010110001110100010110000110011011...  \n",
      "498  0010110111010111100101010110000011011011011011...  \n",
      "499  1101001011100000010010000110111011001110010100...  \n",
      "\n",
      "[500 rows x 2 columns]\n"
     ]
    }
   ],
   "source": [
    "import pandas as pd \n",
    "import torch\n",
    "decoder = 'dataset_d7.csv'\n",
    "df= pd.read_csv(decoder)\n",
    "print(df)"
   ]
  },
  {
   "cell_type": "code",
   "execution_count": 3,
   "id": "1f0ca386-18da-41ca-9d12-e58f7b1214b1",
   "metadata": {},
   "outputs": [],
   "source": [
    "from torch_geometric.data import Data"
   ]
  },
  {
   "cell_type": "code",
   "execution_count": 11,
   "id": "a6008785-4c45-4633-be7b-6246644a7172",
   "metadata": {},
   "outputs": [
    {
     "name": "stdout",
     "output_type": "stream",
     "text": [
      "Requirement already satisfied: torch in c:\\users\\82102\\anaconda3\\lib\\site-packages (2.4.1)\n",
      "Collecting torch_geometric\n",
      "  Downloading torch_geometric-2.6.1-py3-none-any.whl.metadata (63 kB)\n",
      "     ---------------------------------------- 0.0/63.1 kB ? eta -:--:--\n",
      "     ---------------------------------------- 63.1/63.1 kB 1.7 MB/s eta 0:00:00\n",
      "Requirement already satisfied: filelock in c:\\users\\82102\\anaconda3\\lib\\site-packages (from torch) (3.13.1)\n",
      "Requirement already satisfied: typing-extensions>=4.8.0 in c:\\users\\82102\\anaconda3\\lib\\site-packages (from torch) (4.11.0)\n",
      "Requirement already satisfied: sympy in c:\\users\\82102\\anaconda3\\lib\\site-packages (from torch) (1.12)\n",
      "Requirement already satisfied: networkx in c:\\users\\82102\\anaconda3\\lib\\site-packages (from torch) (3.2.1)\n",
      "Requirement already satisfied: jinja2 in c:\\users\\82102\\anaconda3\\lib\\site-packages (from torch) (3.1.4)\n",
      "Requirement already satisfied: fsspec in c:\\users\\82102\\anaconda3\\lib\\site-packages (from torch) (2024.3.1)\n",
      "Requirement already satisfied: setuptools in c:\\users\\82102\\anaconda3\\lib\\site-packages (from torch) (69.5.1)\n",
      "Requirement already satisfied: aiohttp in c:\\users\\82102\\anaconda3\\lib\\site-packages (from torch_geometric) (3.9.5)\n",
      "Requirement already satisfied: numpy in c:\\users\\82102\\anaconda3\\lib\\site-packages (from torch_geometric) (1.26.4)\n",
      "Requirement already satisfied: psutil>=5.8.0 in c:\\users\\82102\\anaconda3\\lib\\site-packages (from torch_geometric) (5.9.0)\n",
      "Requirement already satisfied: pyparsing in c:\\users\\82102\\anaconda3\\lib\\site-packages (from torch_geometric) (3.0.9)\n",
      "Requirement already satisfied: requests in c:\\users\\82102\\anaconda3\\lib\\site-packages (from torch_geometric) (2.32.2)\n",
      "Requirement already satisfied: tqdm in c:\\users\\82102\\anaconda3\\lib\\site-packages (from torch_geometric) (4.66.4)\n",
      "Requirement already satisfied: aiosignal>=1.1.2 in c:\\users\\82102\\anaconda3\\lib\\site-packages (from aiohttp->torch_geometric) (1.2.0)\n",
      "Requirement already satisfied: attrs>=17.3.0 in c:\\users\\82102\\anaconda3\\lib\\site-packages (from aiohttp->torch_geometric) (23.1.0)\n",
      "Requirement already satisfied: frozenlist>=1.1.1 in c:\\users\\82102\\anaconda3\\lib\\site-packages (from aiohttp->torch_geometric) (1.4.0)\n",
      "Requirement already satisfied: multidict<7.0,>=4.5 in c:\\users\\82102\\anaconda3\\lib\\site-packages (from aiohttp->torch_geometric) (6.0.4)\n",
      "Requirement already satisfied: yarl<2.0,>=1.0 in c:\\users\\82102\\anaconda3\\lib\\site-packages (from aiohttp->torch_geometric) (1.9.3)\n",
      "Requirement already satisfied: MarkupSafe>=2.0 in c:\\users\\82102\\anaconda3\\lib\\site-packages (from jinja2->torch) (2.1.3)\n",
      "Requirement already satisfied: charset-normalizer<4,>=2 in c:\\users\\82102\\anaconda3\\lib\\site-packages (from requests->torch_geometric) (2.0.4)\n",
      "Requirement already satisfied: idna<4,>=2.5 in c:\\users\\82102\\anaconda3\\lib\\site-packages (from requests->torch_geometric) (3.7)\n",
      "Requirement already satisfied: urllib3<3,>=1.21.1 in c:\\users\\82102\\anaconda3\\lib\\site-packages (from requests->torch_geometric) (2.2.2)\n",
      "Requirement already satisfied: certifi>=2017.4.17 in c:\\users\\82102\\anaconda3\\lib\\site-packages (from requests->torch_geometric) (2024.8.30)\n",
      "Requirement already satisfied: mpmath>=0.19 in c:\\users\\82102\\anaconda3\\lib\\site-packages (from sympy->torch) (1.3.0)\n",
      "Requirement already satisfied: colorama in c:\\users\\82102\\anaconda3\\lib\\site-packages (from tqdm->torch_geometric) (0.4.6)\n",
      "Downloading torch_geometric-2.6.1-py3-none-any.whl (1.1 MB)\n",
      "   ---------------------------------------- 0.0/1.1 MB ? eta -:--:--\n",
      "   ------------- -------------------------- 0.4/1.1 MB 8.1 MB/s eta 0:00:01\n",
      "   --------------------------- ------------ 0.8/1.1 MB 8.1 MB/s eta 0:00:01\n",
      "   ---------------------------------------  1.1/1.1 MB 7.9 MB/s eta 0:00:01\n",
      "   ---------------------------------------- 1.1/1.1 MB 7.2 MB/s eta 0:00:00\n",
      "Installing collected packages: torch_geometric\n",
      "Successfully installed torch_geometric-2.6.1\n",
      "Note: you may need to restart the kernel to use updated packages.\n"
     ]
    }
   ],
   "source": [
    "pip install torch torch_geometric"
   ]
  },
  {
   "cell_type": "code",
   "execution_count": 5,
   "id": "db69025a-c902-4c8c-960e-bdeb8ada4b02",
   "metadata": {
    "scrolled": true
   },
   "outputs": [
    {
     "name": "stdout",
     "output_type": "stream",
     "text": [
      "<class 'pandas.core.series.Series'>\n",
      "0110000001001110110110010111011000011101110010110100110101000111101110100010101001010001101001111011001110011111100100010011000010101111101011010010000110000010000101001101110000100100001001011000001011001110111100001101101110001100\n",
      "500\n",
      "500\n",
      "<class 'str'>\n"
     ]
    }
   ],
   "source": [
    "y = df.iloc[:, 0]  # 첫 번째 컬럼 (x)\n",
    "x = df.iloc[:, 1]  # 두 번째 컬럼 (y)\n",
    "\n",
    "# 분리된 데이터 확인\n",
    "print(type(x))\n",
    "print(y[1])\n",
    "print(len(x))\n",
    "print(len(y))# x 컬럼의 첫 5개 데이터\n",
    "print(type(y[1]))\n",
    "  # y 컬럼의 첫 5개 데이터"
   ]
  },
  {
   "cell_type": "code",
   "execution_count": 21,
   "id": "9ca72502-b51e-49a1-8dfe-7f156d35e1cf",
   "metadata": {},
   "outputs": [
    {
     "name": "stdout",
     "output_type": "stream",
     "text": [
      "[1, 1, 1, 0, 0, 1, 0, 0, 1, 1, 0, 0, 0, 1, 1, 1, 1, 0, 1, 0, 0, 1, 0, 0, 0, 1, 0, 1, 0, 0, 1, 0, 1, 1, 0, 1, 1, 1, 1, 1, 0, 0, 0, 0, 1, 1, 1, 1, 1, 0, 0, 1, 1, 1, 0, 0, 1, 0, 1, 1, 0, 1, 1, 1, 1, 1, 0, 0, 0, 0, 0, 1, 0, 1, 1, 0, 0, 0, 1, 0, 0, 1, 0, 0, 0, 1, 0, 0, 0, 1, 0, 1, 1, 0, 1, 1, 0, 1, 0, 0, 1, 0, 0, 1, 1, 1, 1, 1, 1, 0, 0, 1, 1, 1, 0, 1, 1, 1, 1, 0, 0, 0, 0, 1, 0, 0, 0, 0, 1, 0, 1, 1, 1, 0, 0, 0, 1, 1, 1, 1, 0, 0, 0, 0, 0, 0, 0, 0, 1, 0, 0, 1, 1, 0, 0, 1, 1, 1, 0, 1, 0, 1, 0, 1, 1, 0, 1, 1, 1, 0, 1, 1, 1, 0, 0, 0, 1, 1, 1, 1, 0, 1, 0, 1, 1, 1, 0, 1, 0, 1, 0, 0, 0, 1, 0, 1, 0, 0, 0, 1, 1, 0, 0, 1, 1, 0, 0, 0, 1, 0, 1, 0, 1, 1, 1, 1, 1, 1, 0, 0, 1, 1, 1, 0, 1, 1, 0, 1, 0, 1, 0, 0, 0, 0, 1, 0, 1, 0, 0, 1, 1, 1, 0, 0, 0, 0, 0, 1, 0, 0, 0, 1, 1, 1, 0, 0]\n",
      "[0, 0, 0, 0, 0, 0, 0, 0, 0, 0, 0, 0, 0, 0, 0, 0, 0, 0, 0, 0, 0, 0, 0, 0, 0, 1, 0, 1, 0, 0, 1, 0, 1, 1, 0, 1, 1, 1, 1, 1, 0, 0, 0, 0, 1, 1, 1, 1, 1, 0, 0, 1, 1, 1, 0, 0, 1, 0, 1, 1, 0, 1, 1, 1, 1, 1, 0, 0, 0, 0, 0, 1, 0, 1, 1, 0, 0, 0, 1, 0, 0, 1, 0, 0, 0, 1, 0, 0, 0, 1, 0, 1, 1, 0, 1, 1, 0, 1, 0, 0, 1, 0, 0, 1, 1, 1, 1, 1, 1, 0, 0, 1, 1, 1, 0, 1, 1, 1, 1, 0, 0, 0, 0, 1, 0, 0, 0, 1, 1, 0, 1, 1, 1, 0, 0, 0, 1, 1, 1, 1, 0, 0, 0, 0, 0, 0, 0, 0, 1, 0, 0, 1, 1, 0, 0, 1, 1, 1, 0, 1, 0, 1, 0, 1, 1, 0, 1, 1, 1, 0, 1, 1, 1, 0, 0, 0, 1, 1, 1, 1, 0, 1, 0, 1, 1, 1, 0, 1, 0, 1, 0, 0, 0, 1, 0, 1, 0, 0, 0, 1, 1, 0, 0, 1, 1, 0, 1, 0, 1, 0, 1, 0, 1, 1, 1, 1, 1, 1, 0, 0, 1, 1, 1, 0, 1, 1, 0, 1, 0, 1, 0, 0, 0, 0, 1, 0, 1, 0, 0, 1, 1, 1, 0, 0, 0, 0, 0, 1, 0, 0, 0, 1, 1, 1, 0, 0]\n"
     ]
    }
   ],
   "source": [
    "def create_graph_from_bitstream(bitstream_x, bitstream_y):\n",
    "    # 비트 스트림을 개별 비트로 변환하고, 정수형으로 변환\n",
    "    x_bits=[]\n",
    "    y_bits=[]\n",
    "    for i in range(len(bitstream_x)):\n",
    "        len_x = len(bitstream_x[i])\n",
    "        len_y = len(bitstream_y[i])\n",
    "        \n",
    "        x_bits.append([int(bit) for bit in bitstream_x[i].strip()])  # X 비트 리스트\n",
    "        y_bits.append([int(bit) for bit in bitstream_y[i].strip()]) # Y 비트 리스트\n",
    " \n",
    "        if len_x < len_y:\n",
    "            # x의 비트 길이를 y의 비트 길이에 맞추기 위해 0으로 패딩\n",
    "            padding = [0] * (len_y - len_x)\n",
    "            x_bits[i] = padding + x_bits[i]  # x 비트 앞에 패딩 추가\n",
    "            # bitstream_x[i] = bitstream_x[i].append(pd.Series([0] * (len_y - len_x)), ignore_index=True)\n",
    "        elif len_x > len_y:\n",
    "            # y의 비트 길이를 x의 비트 길이에 맞추기 위해 0으로 패딩\n",
    "            padding = [0] * (len_x - len_y)\n",
    "            y_bits[i] = padding + y_bits[i]  # y 비트 앞에 패딩 추가\n",
    "            # bitstream_y[i] = bitstream_y[i].append(pd.Series([0] * (len_x - len_y)), ignore_index=True)\n",
    "\n",
    "\n",
    "        # 비트 스트림 길이가 같은지 확인\n",
    "        if len(x_bits[i]) != len(y_bits[i]):\n",
    "            raise ValueError(\"X와 Y 비트 스트림의 길이가 일치하지 않습니다.\")\n",
    "\n",
    "    return  x_bits,y_bits\n",
    "\n",
    "\n",
    "\n",
    "# 그래프 생성\n",
    "data = create_graph_from_bitstream(x, y)\n",
    "print(data[0][0])\n",
    "print(data[1][0])"
   ]
  },
  {
   "cell_type": "code",
   "execution_count": 23,
   "id": "13b28c75-4a43-483c-ada4-56f0bde3e45c",
   "metadata": {},
   "outputs": [
    {
     "name": "stdout",
     "output_type": "stream",
     "text": [
      "256\n"
     ]
    }
   ],
   "source": [
    "print(len(data[0][0]))"
   ]
  },
  {
   "cell_type": "code",
   "execution_count": 7,
   "id": "cd833c7b-8b9b-4b01-9052-6eab87f65d47",
   "metadata": {},
   "outputs": [],
   "source": [
    "# 그래프 변환 함수 정의\n",
    "# 그래프 변환 함수 정의\n",
    "def create_graph_from_bitstream(bitstream_x, bitstream_y):\n",
    "    # 비트 스트림을 개별 비트로 변환하고, 정수형으로 변환\n",
    "    x_bits=[]\n",
    "    y_bits=[]\n",
    "    for i in range(len(bitstream_x)):\n",
    "        len_x = len(bitstream_x[i])\n",
    "        len_y = len(bitstream_y[i])\n",
    "        \n",
    "        x_bits.append([int(bit) for bit in bitstream_x[i].strip()])  # X 비트 리스트\n",
    "        y_bits.append([int(bit) for bit in bitstream_y[i].strip()]) # Y 비트 리스트\n",
    " \n",
    "        if len_x < len_y:\n",
    "            # x의 비트 길이를 y의 비트 길이에 맞추기 위해 0으로 패딩\n",
    "            padding = [0] * (len_y - len_x)\n",
    "            x_bits[i] = padding + x_bits[i]  # x 비트 앞에 패딩 추가\n",
    "            # bitstream_x[i] = bitstream_x[i].append(pd.Series([0] * (len_y - len_x)), ignore_index=True)\n",
    "        elif len_x > len_y:\n",
    "            # y의 비트 길이를 x의 비트 길이에 맞추기 위해 0으로 패딩\n",
    "            padding = [0] * (len_x - len_y)\n",
    "            y_bits[i] = padding + y_bits[i]  # y 비트 앞에 패딩 추가\n",
    "            # bitstream_y[i] = bitstream_y[i].append(pd.Series([0] * (len_x - len_y)), ignore_index=True)\n",
    "\n",
    "\n",
    "        # 비트 스트림 길이가 같은지 확인\n",
    "        if len(x_bits[i]) != len(y_bits[i]):\n",
    "            raise ValueError(\"X와 Y 비트 스트림의 길이가 일치하지 않습니다.\")\n",
    "    data_1=[]       \n",
    "    for i in range(len(x_bits)):\n",
    "    # for i in range(1):\n",
    "        # X를 각 노드 특성으로 설정\n",
    "    \n",
    "        node_features = torch.tensor(x_bits[i], dtype=torch.float).unsqueeze(-1)  #X사용(256*500)(500개의 노드와 각 노드당 256개의 값,엣지연결499개의 축,255개의 엣지)\n",
    "        node_features_1  = torch.tensor(y_bits[i], dtype=torch.float).unsqueeze(-1)\n",
    "        # 엣지 연결: 인접 노드를 연결\n",
    "        num_nodes = len(x_bits[i])\n",
    "        # print(num_nodes)\n",
    "        edge_index = []\n",
    "        for i in range(num_nodes - 1):\n",
    "            edge_index.append([i, i + 1])  # i에서 i+1로의 엣지\n",
    "            edge_index.append([i + 1, i])  # i+1에서 i로의 엣지\n",
    "        # print(len(edge_index))\n",
    "        edge_index = torch.tensor(edge_index, dtype=torch.long).t().contiguous()\n",
    "    \n",
    "        # 그래프 데이터 생성 (Y를 타겟으로 설정)\n",
    "        data_1.append( Data(x=node_features, edge_index=edge_index, y=node_features_1))\n",
    "    return data_1\n",
    "\n",
    "# # 데이터셋 생성\n",
    "# dataset = []\n",
    "# for idx, row in df.iterrows():\n",
    "#     graph = create_graph_from_bitstream(y, x)\n",
    "#     dataset.append(graph)\n",
    "\n",
    "# # 첫 번째 그래프 데이터 확인\n",
    "# print(dataset[0])\n",
    "\n",
    "# 그래프 생성\n",
    "data = create_graph_from_bitstream(x, y)\n"
   ]
  },
  {
   "cell_type": "code",
   "execution_count": 17,
   "id": "4ec93555-5e3b-4b62-8db5-e6cef4614495",
   "metadata": {},
   "outputs": [
    {
     "data": {
      "text/plain": [
       "Data(x=[256, 1], edge_index=[2, 510], y=[256, 1])"
      ]
     },
     "execution_count": 17,
     "metadata": {},
     "output_type": "execute_result"
    }
   ],
   "source": [
    "data[1]"
   ]
  },
  {
   "cell_type": "code",
   "execution_count": 41,
   "id": "d17f954e-f1c2-4954-bacd-8c181e2fd035",
   "metadata": {
    "scrolled": true
   },
   "outputs": [
    {
     "name": "stdout",
     "output_type": "stream",
     "text": [
      "tensor([[  0,   1,   1,  ..., 254, 254, 255],\n",
      "        [  1,   0,   2,  ..., 253, 255, 254]])\n"
     ]
    }
   ],
   "source": [
    "print(data[499].edge_index)"
   ]
  },
  {
   "cell_type": "code",
   "execution_count": 71,
   "id": "7ed77167-44a8-4436-a3db-4354cb66528c",
   "metadata": {},
   "outputs": [
    {
     "name": "stdout",
     "output_type": "stream",
     "text": [
      "Requirement already satisfied: networkx in c:\\users\\82102\\anaconda3\\lib\\site-packages (3.2.1)\n"
     ]
    }
   ],
   "source": [
    "!pip install networkx"
   ]
  },
  {
   "cell_type": "code",
   "execution_count": null,
   "id": "d232face-d892-4ada-872e-f499844cd0ab",
   "metadata": {},
   "outputs": [],
   "source": [
    "import networkx as nx\n",
    "import matplotlib.pyplot as plt\n",
    "from torch_geometric.utils import to_networkx\n",
    "\n",
    "# PyTorch Geometric 그래프를 NetworkX 그래프로 변환\n",
    "G = to_networkx(data[1], to_undirected=True)\n",
    "\n",
    "# 그래프 시각화\n",
    "nx.draw(G, with_labels=True)\n",
    "plt.show()"
   ]
  },
  {
   "cell_type": "code",
   "execution_count": null,
   "id": "04f088a5-d0eb-45a2-a274-1fa9f653481f",
   "metadata": {},
   "outputs": [],
   "source": []
  },
  {
   "cell_type": "code",
   "execution_count": 124,
   "id": "a7cfbfbf-e22c-40ba-aefc-46897ea5fa26",
   "metadata": {},
   "outputs": [],
   "source": [
    "from torch_geometric.loader import DataLoader\n",
    "from torch_geometric.data import Data\n",
    "loader = DataLoader(data, batch_size=16, shuffle=True)\n"
   ]
  },
  {
   "cell_type": "code",
   "execution_count": 35,
   "id": "cae90ab7-482d-4783-a664-eb5a92c89bce",
   "metadata": {
    "scrolled": true
   },
   "outputs": [
    {
     "name": "stderr",
     "output_type": "stream",
     "text": [
      "C:\\Users\\82102\\anaconda3\\Lib\\site-packages\\torch\\nn\\modules\\loss.py:538: UserWarning: Using a target size (torch.Size([256, 1])) that is different to the input size (torch.Size([1])). This will likely lead to incorrect results due to broadcasting. Please ensure they have the same size.\n",
      "  return F.mse_loss(input, target, reduction=self.reduction)\n",
      "C:\\Users\\82102\\anaconda3\\Lib\\site-packages\\torch\\nn\\modules\\loss.py:538: UserWarning: Using a target size (torch.Size([248, 1])) that is different to the input size (torch.Size([1])). This will likely lead to incorrect results due to broadcasting. Please ensure they have the same size.\n",
      "  return F.mse_loss(input, target, reduction=self.reduction)\n"
     ]
    },
    {
     "name": "stdout",
     "output_type": "stream",
     "text": [
      "Epoch 1, Loss: 0.24830059242248534\n",
      "Epoch 2, Loss: 0.24676689106225969\n",
      "Epoch 3, Loss: 0.24672154155373574\n",
      "Epoch 4, Loss: 0.2466182741522789\n",
      "Epoch 5, Loss: 0.24678682839870453\n",
      "Epoch 6, Loss: 0.2467509056031704\n",
      "Epoch 7, Loss: 0.24658075246214867\n",
      "Epoch 8, Loss: 0.40840860882401464\n",
      "Epoch 9, Loss: 0.24858691388368606\n",
      "Epoch 10, Loss: 0.24951646077632905\n",
      "Epoch 11, Loss: 0.25613754174113273\n",
      "Epoch 12, Loss: 0.25874059373140335\n",
      "Epoch 13, Loss: 0.2764163827598095\n",
      "Epoch 14, Loss: 0.2541430456340313\n",
      "Epoch 15, Loss: 0.28879036131501196\n",
      "Epoch 16, Loss: 0.27569183763861654\n",
      "Epoch 17, Loss: 0.27372581431269644\n",
      "Epoch 18, Loss: 0.2516029740869999\n",
      "Epoch 19, Loss: 0.2524466710090637\n",
      "Epoch 20, Loss: 0.2769760661125183\n",
      "Epoch 21, Loss: 0.2988447663187981\n",
      "Epoch 22, Loss: 0.2553824128508568\n",
      "Epoch 23, Loss: 0.25253371304273603\n",
      "Epoch 24, Loss: 0.3055939342677593\n",
      "Epoch 25, Loss: 0.26130745506286623\n",
      "Epoch 26, Loss: 0.2565139964222908\n",
      "Epoch 27, Loss: 0.26633591020107267\n",
      "Epoch 28, Loss: 0.2648709808588028\n",
      "Epoch 29, Loss: 0.2636195387840271\n",
      "Epoch 30, Loss: 0.26379890751838686\n",
      "Epoch 31, Loss: 0.263563462972641\n",
      "Epoch 32, Loss: 0.2633076002895832\n",
      "Epoch 33, Loss: 0.2638866474032402\n",
      "Epoch 34, Loss: 0.26330267599225043\n",
      "Epoch 35, Loss: 0.26392992118000985\n",
      "Epoch 36, Loss: 0.263273818731308\n",
      "Epoch 37, Loss: 0.2636022346317768\n",
      "Epoch 38, Loss: 0.2632521032392979\n",
      "Epoch 39, Loss: 0.2640873263776302\n",
      "Epoch 40, Loss: 0.262663423538208\n",
      "Epoch 41, Loss: 0.26387966370582583\n",
      "Epoch 42, Loss: 0.2634242597818375\n",
      "Epoch 43, Loss: 0.2634148563146591\n",
      "Epoch 44, Loss: 0.2636761245727539\n",
      "Epoch 45, Loss: 0.26299877831339835\n",
      "Epoch 46, Loss: 0.26361043128371237\n",
      "Epoch 47, Loss: 0.2632975862324238\n",
      "Epoch 48, Loss: 0.26377866297960284\n",
      "Epoch 49, Loss: 0.2626247777342796\n",
      "Epoch 50, Loss: 0.2636388021707535\n"
     ]
    }
   ],
   "source": [
    "import torch\n",
    "import torch.nn.functional as F\n",
    "from torch_geometric.nn import GCNConv\n",
    "\n",
    "class GCN(torch.nn.Module):\n",
    "    def __init__(self):\n",
    "        super(GCN, self).__init__()\n",
    "        self.conv1 = GCNConv(1, 40)\n",
    "        self.conv2 = GCNConv(40, 80)\n",
    "        self.conv3 = GCNConv(80, 40)\n",
    "        self.conv4 = GCNConv(40, 256)\n",
    "        self.fc = torch.nn.Linear(256, 1)  # 출력 노드 특성 크기\n",
    "\n",
    "    def forward(self, data):\n",
    "        # for i in range(500):\n",
    "        x, edge_index = data.x, data.edge_index\n",
    "        x = self.conv1(x, edge_index)\n",
    "        x = F.tanh(x)\n",
    "        x = self.conv2(x, edge_index)\n",
    "        x = F.tanh(x)\n",
    "        x = self.conv3(x, edge_index)\n",
    "        x = F.tanh(x)\n",
    "        x = self.conv4(x, edge_index)\n",
    "        x = F.tanh(x)\n",
    "        x = torch.mean(x, dim=0)  # 그래프의 노드들을 평균하여 그래프 수준의 예측에 사용\n",
    "        x = self.fc(x)\n",
    "        return x\n",
    "\n",
    "# 모델 및 최적화 설정\n",
    "model = GCN()\n",
    "optimizer = torch.optim.Adam(model.parameters(), lr=0.01)\n",
    "criterion = torch.nn.MSELoss()  # 예시로 회귀 문제로 가정\n",
    "\n",
    "# 학습 루프\n",
    "for epoch in range(50):  # 50 에폭 학습\n",
    "    total_loss = 0\n",
    "    # for data in loader:\n",
    "        # optimizer.zero_grad()\n",
    "        # output = model(data)\n",
    "        # 예시로 target을 임의의 float 값으로 설정\n",
    "    for i in range(500):\n",
    "        optimizer.zero_grad()\n",
    "        output = model(data[i])\n",
    "        loss = criterion(output,data[i].y)\n",
    "        loss.backward()\n",
    "        optimizer.step()\n",
    "        total_loss += loss.item()\n",
    "    print(f'Epoch {epoch+1}, Loss: {total_loss/len(data)}')"
   ]
  },
  {
   "cell_type": "code",
   "execution_count": 57,
   "id": "88dd0d05-fc63-46a2-be71-9186449feb2e",
   "metadata": {},
   "outputs": [
    {
     "data": {
      "text/plain": [
       "tensor([  0,   1,   1,   2,   2,   3,   3,   4,   4,   5,   5,   6,   6,   7,\n",
       "          7,   8,   8,   9,   9,  10,  10,  11,  11,  12,  12,  13,  13,  14,\n",
       "         14,  15,  15,  16,  16,  17,  17,  18,  18,  19,  19,  20,  20,  21,\n",
       "         21,  22,  22,  23,  23,  24,  24,  25,  25,  26,  26,  27,  27,  28,\n",
       "         28,  29,  29,  30,  30,  31,  31,  32,  32,  33,  33,  34,  34,  35,\n",
       "         35,  36,  36,  37,  37,  38,  38,  39,  39,  40,  40,  41,  41,  42,\n",
       "         42,  43,  43,  44,  44,  45,  45,  46,  46,  47,  47,  48,  48,  49,\n",
       "         49,  50,  50,  51,  51,  52,  52,  53,  53,  54,  54,  55,  55,  56,\n",
       "         56,  57,  57,  58,  58,  59,  59,  60,  60,  61,  61,  62,  62,  63,\n",
       "         63,  64,  64,  65,  65,  66,  66,  67,  67,  68,  68,  69,  69,  70,\n",
       "         70,  71,  71,  72,  72,  73,  73,  74,  74,  75,  75,  76,  76,  77,\n",
       "         77,  78,  78,  79,  79,  80,  80,  81,  81,  82,  82,  83,  83,  84,\n",
       "         84,  85,  85,  86,  86,  87,  87,  88,  88,  89,  89,  90,  90,  91,\n",
       "         91,  92,  92,  93,  93,  94,  94,  95,  95,  96,  96,  97,  97,  98,\n",
       "         98,  99,  99, 100, 100, 101, 101, 102, 102, 103, 103, 104, 104, 105,\n",
       "        105, 106, 106, 107, 107, 108, 108, 109, 109, 110, 110, 111, 111, 112,\n",
       "        112, 113, 113, 114, 114, 115, 115, 116, 116, 117, 117, 118, 118, 119,\n",
       "        119, 120, 120, 121, 121, 122, 122, 123, 123, 124, 124, 125, 125, 126,\n",
       "        126, 127, 127, 128, 128, 129, 129, 130, 130, 131, 131, 132, 132, 133,\n",
       "        133, 134, 134, 135, 135, 136, 136, 137, 137, 138, 138, 139, 139, 140,\n",
       "        140, 141, 141, 142, 142, 143, 143, 144, 144, 145, 145, 146, 146, 147,\n",
       "        147, 148, 148, 149, 149, 150, 150, 151, 151, 152, 152, 153, 153, 154,\n",
       "        154, 155, 155, 156, 156, 157, 157, 158, 158, 159, 159, 160, 160, 161,\n",
       "        161, 162, 162, 163, 163, 164, 164, 165, 165, 166, 166, 167, 167, 168,\n",
       "        168, 169, 169, 170, 170, 171, 171, 172, 172, 173, 173, 174, 174, 175,\n",
       "        175, 176, 176, 177, 177, 178, 178, 179, 179, 180, 180, 181, 181, 182,\n",
       "        182, 183, 183, 184, 184, 185, 185, 186, 186, 187, 187, 188, 188, 189,\n",
       "        189, 190, 190, 191, 191, 192, 192, 193, 193, 194, 194, 195, 195, 196,\n",
       "        196, 197, 197, 198, 198, 199, 199, 200, 200, 201, 201, 202, 202, 203,\n",
       "        203, 204, 204, 205, 205, 206, 206, 207, 207, 208, 208, 209, 209, 210,\n",
       "        210, 211, 211, 212, 212, 213, 213, 214, 214, 215, 215, 216, 216, 217,\n",
       "        217, 218, 218, 219, 219, 220, 220, 221, 221, 222, 222, 223, 223, 224,\n",
       "        224, 225, 225, 226, 226, 227, 227, 228, 228, 229, 229, 230, 230, 231,\n",
       "        231, 232, 232, 233, 233, 234, 234, 235, 235, 236, 236, 237, 237, 238,\n",
       "        238, 239, 239, 240, 240, 241, 241, 242, 242, 243, 243, 244, 244, 245,\n",
       "        245, 246, 246, 247, 247, 248, 248, 249, 249, 250, 250, 251, 251, 252,\n",
       "        252, 253, 253, 254, 254, 255])"
      ]
     },
     "execution_count": 57,
     "metadata": {},
     "output_type": "execute_result"
    }
   ],
   "source": [
    "(data[0].edge_index[0])"
   ]
  },
  {
   "cell_type": "code",
   "execution_count": null,
   "id": "0ea6d8d3-6fc2-40b9-b2f5-67b54b71a228",
   "metadata": {},
   "outputs": [],
   "source": []
  },
  {
   "cell_type": "code",
   "execution_count": null,
   "id": "60bc5b95-f5c1-46a3-bba2-4503e3910fb6",
   "metadata": {},
   "outputs": [],
   "source": []
  },
  {
   "cell_type": "code",
   "execution_count": null,
   "id": "01ffe923-4006-411a-900e-dd34163b5cf4",
   "metadata": {},
   "outputs": [],
   "source": []
  },
  {
   "cell_type": "code",
   "execution_count": null,
   "id": "506256c5-b79f-4ad4-8497-b9d2b371e3bd",
   "metadata": {},
   "outputs": [],
   "source": []
  },
  {
   "cell_type": "code",
   "execution_count": null,
   "id": "5bf878bc-76d9-4e63-8b0d-b68ed56c9a4e",
   "metadata": {},
   "outputs": [],
   "source": []
  },
  {
   "cell_type": "code",
   "execution_count": null,
   "id": "3c646c9b-8251-4309-9d8c-f9290452660d",
   "metadata": {},
   "outputs": [],
   "source": []
  },
  {
   "cell_type": "code",
   "execution_count": 98,
   "id": "098056a7-aff8-4542-b24d-dc19d244e987",
   "metadata": {},
   "outputs": [],
   "source": []
  },
  {
   "cell_type": "code",
   "execution_count": 33,
   "id": "3a5e5fd5-2105-4c15-b514-cef3c82782b3",
   "metadata": {},
   "outputs": [
    {
     "name": "stdout",
     "output_type": "stream",
     "text": [
      "2\n",
      "2\n",
      "[[1, 1, 0, 0, 1, 1], [1, 0, 1, 0, 1, 0]]\n",
      "[[1, 1, 0, 0, 0, 0], [1, 1, 1, 0, 0, 0]]\n"
     ]
    }
   ],
   "source": [
    "a=['110011','101010']\n",
    "b=['110000','111000']\n",
    "\n",
    "x=[]\n",
    "y=[]\n",
    "\n",
    "for i in range(len(a)):\n",
    "    x.append([int(bit) for bit in a[i].strip()])  # X 비트 리스트\n",
    "    y.append([int(bit) for bit in b[i].strip()])  # Y 비트 리스트\n",
    "\n",
    "# 비트 스트림 길이가 같은지 확인\n",
    "if len(x) != len(y):\n",
    "    raise ValueError(\"X와 Y 비트 스트림의 길이가 일치하지 않습니다.\")\n",
    "\n",
    "print(len(a))\n",
    "print(len(x))\n",
    "print(x)\n",
    "print(y)\n"
   ]
  },
  {
   "cell_type": "code",
   "execution_count": 67,
   "id": "f21f076a-8e92-4835-81b9-858ba6800de6",
   "metadata": {},
   "outputs": [],
   "source": [
    "A=[1.0, 0.0, 1.0, 0.0, 0.0, 1.0, 1.0, 0.0, 1.0, 1.0, 0.0, 0.0, 0.0, 0.0, 1.0, 0.0, 1.0, 0.0, 0.0, 1.0, 0.0, 0.0, 0.0, 1.0, 1.0, 0.0, 0.0, 1.0, 1.0, 1.0, 1.0, 0.0, 0.0, 0.0, 0.0, 1.0, 0.0, 1.0, 0.0, 1.0, 0.0, 0.0, 1.0, 1.0, 0.0]"
   ]
  },
  {
   "cell_type": "code",
   "execution_count": 69,
   "id": "e82e77f6-4bec-42fa-83ef-e6154edf630e",
   "metadata": {},
   "outputs": [],
   "source": [
    "B=[-19.86612892150879, 18.481143951416016, 19.959884643554688, -25.483585357666016, 11.039448738098145, 18.93051528930664, 30.150096893310547, 20.928977966308594, -32.25202941894531, 15.86776351928711, 16.66452980041504, 27.542884826660156, 38.190059661865234, -17.93328857421875, -9.135181427001953, 15.752458572387695, -18.613914489746094, 22.592920303344727, -28.626972198486328, 24.568702697753906, -15.173446655273438, -28.557971954345703, -9.694477081298828, 25.533042907714844, 17.052595138549805, -22.51066780090332, -21.417394638061523, 29.31382942199707, 14.131477355957031, 25.406314849853516, 33.008975982666016, -25.96282196044922, -20.280317306518555, -21.535329818725586, -13.407166481018066, 22.659473419189453, -24.673301696777344, 21.262847900390625, -19.415605545043945, 15.482250213623047, -7.782749176025391, -18.23360252380371, 17.041902542114258, 19.001144409179688, -18.488632202148438, 22.514150619506836, -32.812435150146484, 12.725217819213867, -28.012022018432617, -12.925470352172852, 16.091154098510742, 17.49919891357422, -10.911783218383789, 22.354490280151367, 33.2010383605957, -21.604293823242188, -9.156903266906738, -27.38245391845703, -12.73459529876709, 18.832054138183594, -13.88657283782959, 24.335670471191406, -25.334857940673828]\n"
   ]
  },
  {
   "cell_type": "code",
   "execution_count": 85,
   "id": "ec19a6e0-af69-4e80-9292-c1467f84f0bf",
   "metadata": {},
   "outputs": [
    {
     "data": {
      "text/plain": [
       "45"
      ]
     },
     "execution_count": 85,
     "metadata": {},
     "output_type": "execute_result"
    }
   ],
   "source": [
    "len(A)"
   ]
  },
  {
   "cell_type": "code",
   "execution_count": 83,
   "id": "95fe13c7-200f-48b1-93c6-8d35fd4a5b2b",
   "metadata": {},
   "outputs": [
    {
     "data": {
      "text/plain": [
       "63"
      ]
     },
     "execution_count": 83,
     "metadata": {},
     "output_type": "execute_result"
    }
   ],
   "source": [
    "len(B)"
   ]
  },
  {
   "cell_type": "code",
   "execution_count": 87,
   "id": "0340b751-3eb0-4ef0-8595-31e589d9442c",
   "metadata": {},
   "outputs": [
    {
     "ename": "ValueError",
     "evalue": "All arrays must be of the same length",
     "output_type": "error",
     "traceback": [
      "\u001b[1;31m---------------------------------------------------------------------------\u001b[0m",
      "\u001b[1;31mValueError\u001b[0m                                Traceback (most recent call last)",
      "Cell \u001b[1;32mIn[87], line 2\u001b[0m\n\u001b[0;32m      1\u001b[0m data_1\u001b[38;5;241m=\u001b[39m{\u001b[38;5;124m'\u001b[39m\u001b[38;5;124m원본비트스트림\u001b[39m\u001b[38;5;124m'\u001b[39m: A ,\u001b[38;5;124m'\u001b[39m\u001b[38;5;124mLLR\u001b[39m\u001b[38;5;124m'\u001b[39m:B}\n\u001b[1;32m----> 2\u001b[0m df_1\u001b[38;5;241m=\u001b[39m pd\u001b[38;5;241m.\u001b[39mDataFrame(data_1)\n\u001b[0;32m      3\u001b[0m \u001b[38;5;28mprint\u001b[39m(df_1)\n",
      "File \u001b[1;32m~\\anaconda3\\Lib\\site-packages\\pandas\\core\\frame.py:778\u001b[0m, in \u001b[0;36mDataFrame.__init__\u001b[1;34m(self, data, index, columns, dtype, copy)\u001b[0m\n\u001b[0;32m    772\u001b[0m     mgr \u001b[38;5;241m=\u001b[39m \u001b[38;5;28mself\u001b[39m\u001b[38;5;241m.\u001b[39m_init_mgr(\n\u001b[0;32m    773\u001b[0m         data, axes\u001b[38;5;241m=\u001b[39m{\u001b[38;5;124m\"\u001b[39m\u001b[38;5;124mindex\u001b[39m\u001b[38;5;124m\"\u001b[39m: index, \u001b[38;5;124m\"\u001b[39m\u001b[38;5;124mcolumns\u001b[39m\u001b[38;5;124m\"\u001b[39m: columns}, dtype\u001b[38;5;241m=\u001b[39mdtype, copy\u001b[38;5;241m=\u001b[39mcopy\n\u001b[0;32m    774\u001b[0m     )\n\u001b[0;32m    776\u001b[0m \u001b[38;5;28;01melif\u001b[39;00m \u001b[38;5;28misinstance\u001b[39m(data, \u001b[38;5;28mdict\u001b[39m):\n\u001b[0;32m    777\u001b[0m     \u001b[38;5;66;03m# GH#38939 de facto copy defaults to False only in non-dict cases\u001b[39;00m\n\u001b[1;32m--> 778\u001b[0m     mgr \u001b[38;5;241m=\u001b[39m dict_to_mgr(data, index, columns, dtype\u001b[38;5;241m=\u001b[39mdtype, copy\u001b[38;5;241m=\u001b[39mcopy, typ\u001b[38;5;241m=\u001b[39mmanager)\n\u001b[0;32m    779\u001b[0m \u001b[38;5;28;01melif\u001b[39;00m \u001b[38;5;28misinstance\u001b[39m(data, ma\u001b[38;5;241m.\u001b[39mMaskedArray):\n\u001b[0;32m    780\u001b[0m     \u001b[38;5;28;01mfrom\u001b[39;00m \u001b[38;5;21;01mnumpy\u001b[39;00m\u001b[38;5;21;01m.\u001b[39;00m\u001b[38;5;21;01mma\u001b[39;00m \u001b[38;5;28;01mimport\u001b[39;00m mrecords\n",
      "File \u001b[1;32m~\\anaconda3\\Lib\\site-packages\\pandas\\core\\internals\\construction.py:503\u001b[0m, in \u001b[0;36mdict_to_mgr\u001b[1;34m(data, index, columns, dtype, typ, copy)\u001b[0m\n\u001b[0;32m    499\u001b[0m     \u001b[38;5;28;01melse\u001b[39;00m:\n\u001b[0;32m    500\u001b[0m         \u001b[38;5;66;03m# dtype check to exclude e.g. range objects, scalars\u001b[39;00m\n\u001b[0;32m    501\u001b[0m         arrays \u001b[38;5;241m=\u001b[39m [x\u001b[38;5;241m.\u001b[39mcopy() \u001b[38;5;28;01mif\u001b[39;00m \u001b[38;5;28mhasattr\u001b[39m(x, \u001b[38;5;124m\"\u001b[39m\u001b[38;5;124mdtype\u001b[39m\u001b[38;5;124m\"\u001b[39m) \u001b[38;5;28;01melse\u001b[39;00m x \u001b[38;5;28;01mfor\u001b[39;00m x \u001b[38;5;129;01min\u001b[39;00m arrays]\n\u001b[1;32m--> 503\u001b[0m \u001b[38;5;28;01mreturn\u001b[39;00m arrays_to_mgr(arrays, columns, index, dtype\u001b[38;5;241m=\u001b[39mdtype, typ\u001b[38;5;241m=\u001b[39mtyp, consolidate\u001b[38;5;241m=\u001b[39mcopy)\n",
      "File \u001b[1;32m~\\anaconda3\\Lib\\site-packages\\pandas\\core\\internals\\construction.py:114\u001b[0m, in \u001b[0;36marrays_to_mgr\u001b[1;34m(arrays, columns, index, dtype, verify_integrity, typ, consolidate)\u001b[0m\n\u001b[0;32m    111\u001b[0m \u001b[38;5;28;01mif\u001b[39;00m verify_integrity:\n\u001b[0;32m    112\u001b[0m     \u001b[38;5;66;03m# figure out the index, if necessary\u001b[39;00m\n\u001b[0;32m    113\u001b[0m     \u001b[38;5;28;01mif\u001b[39;00m index \u001b[38;5;129;01mis\u001b[39;00m \u001b[38;5;28;01mNone\u001b[39;00m:\n\u001b[1;32m--> 114\u001b[0m         index \u001b[38;5;241m=\u001b[39m _extract_index(arrays)\n\u001b[0;32m    115\u001b[0m     \u001b[38;5;28;01melse\u001b[39;00m:\n\u001b[0;32m    116\u001b[0m         index \u001b[38;5;241m=\u001b[39m ensure_index(index)\n",
      "File \u001b[1;32m~\\anaconda3\\Lib\\site-packages\\pandas\\core\\internals\\construction.py:677\u001b[0m, in \u001b[0;36m_extract_index\u001b[1;34m(data)\u001b[0m\n\u001b[0;32m    675\u001b[0m lengths \u001b[38;5;241m=\u001b[39m \u001b[38;5;28mlist\u001b[39m(\u001b[38;5;28mset\u001b[39m(raw_lengths))\n\u001b[0;32m    676\u001b[0m \u001b[38;5;28;01mif\u001b[39;00m \u001b[38;5;28mlen\u001b[39m(lengths) \u001b[38;5;241m>\u001b[39m \u001b[38;5;241m1\u001b[39m:\n\u001b[1;32m--> 677\u001b[0m     \u001b[38;5;28;01mraise\u001b[39;00m \u001b[38;5;167;01mValueError\u001b[39;00m(\u001b[38;5;124m\"\u001b[39m\u001b[38;5;124mAll arrays must be of the same length\u001b[39m\u001b[38;5;124m\"\u001b[39m)\n\u001b[0;32m    679\u001b[0m \u001b[38;5;28;01mif\u001b[39;00m have_dicts:\n\u001b[0;32m    680\u001b[0m     \u001b[38;5;28;01mraise\u001b[39;00m \u001b[38;5;167;01mValueError\u001b[39;00m(\n\u001b[0;32m    681\u001b[0m         \u001b[38;5;124m\"\u001b[39m\u001b[38;5;124mMixing dicts with non-Series may lead to ambiguous ordering.\u001b[39m\u001b[38;5;124m\"\u001b[39m\n\u001b[0;32m    682\u001b[0m     )\n",
      "\u001b[1;31mValueError\u001b[0m: All arrays must be of the same length"
     ]
    }
   ],
   "source": [
    "data_1={'원본비트스트림': A ,'LLR':B}\n",
    "df_1= pd.DataFrame(data_1)\n",
    "print(df_1)"
   ]
  }
 ],
 "metadata": {
  "kernelspec": {
   "display_name": "Python 3 (ipykernel)",
   "language": "python",
   "name": "python3"
  },
  "language_info": {
   "codemirror_mode": {
    "name": "ipython",
    "version": 3
   },
   "file_extension": ".py",
   "mimetype": "text/x-python",
   "name": "python",
   "nbconvert_exporter": "python",
   "pygments_lexer": "ipython3",
   "version": "3.12.4"
  }
 },
 "nbformat": 4,
 "nbformat_minor": 5
}
